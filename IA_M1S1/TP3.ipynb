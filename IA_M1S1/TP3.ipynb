{
 "cells": [
  {
   "cell_type": "code",
   "execution_count": 4,
   "metadata": {},
   "outputs": [],
   "source": [
    "import numpy as np\n",
    "import pandas as pandas\n",
    "from keras.utils.np_utils import to_categorical\n",
    "from keras.datasets import mnist\n",
    "from keras.models import Sequential\n",
    "from keras import layers\n",
    "import math\n",
    "\n",
    "from numpy import loadtxt\n",
    "\n",
    "# récupération des données\n",
    "dataset = pandas.read_csv('Uses_Cases/Spam/Spam detection - For model creation.csv', delimiter=';')\n",
    "dataset2 = loadtxt('Uses_Cases/Spam/Spam detection - For prediction.csv', delimiter=',',skiprows=1)\n",
    "dataset3 = pandas.read_csv('Uses_Cases/Spam/Spam detection - For prediction.csv', delimiter=',')\n",
    "train_labels = dataset['GOAL-Spam'].replace(\"No\",0).replace(\"Yes\",1).to_numpy()\n",
    "train_images = dataset.drop(columns=['GOAL-Spam']).to_numpy()\n",
    "\n",
    "test_images = dataset2[:,:-1]\n",
    "test_labels = dataset2[:,-1]\n",
    "\n",
    "# préparation des données : « aplatir » données en vecteurs de 57*57 et normaliser\n",
    "train_images = train_images.reshape(len(train_images), 57)\n",
    "train_images = train_images.astype('float32')/255\n",
    "test_images = test_images.reshape(len(test_images), 57)\n",
    "test_images = test_images.astype('float32')/255\n",
    "# coder les labels dans le format one-hot\n",
    "train_label = to_categorical(train_labels,2)# 2 est le nombre de classes\n",
    "test_label = to_categorical(test_labels,2)"
   ]
  },
  {
   "cell_type": "code",
   "execution_count": 11,
   "metadata": {
    "pycharm": {
     "name": "#%%\n"
    }
   },
   "outputs": [
    {
     "name": "stdout",
     "output_type": "stream",
     "text": [
      "Epoch 1/5\n",
      "24/24 [==============================] - 1s 12ms/step - loss: 0.6197 - accuracy: 0.6898 - val_loss: 0.5771 - val_accuracy: 0.6939\b\b\b\b\b\b\b\b\b\b\b\b\b\b\b\b\b\b\b\b\b\b\b\b\b\b\b\b\b\b\b\b\b\b\b\b\b\b\b\b\b\b\b\b\b\b\b\b\b\b\b\b\b\b\b\b\b\b\b\b\b\b\b\b\b\b\b\b\b\b\b\b\b\b\b\b\b\b\b\b\b\b\b\b\b\b\b\b\b\b\b\b\b\b\b\b\b\b\b\b\b\b\b\b\b\b\b\b\b\b\b\b\b\b\b\b\b\b\b\n",
      "Epoch 2/5\n",
      "24/24 [==============================] - 0s 5ms/step - loss: 0.5652 - accuracy: 0.7032 - val_loss: 0.5516 - val_accuracy: 0.7009\b\b\b\b\b\b\b\b\b\b\b\b\b\b\b\b\b\b\b\b\b\b\b\b\b\b\b\b\b\b\b\b\b\b\b\b\b\b\b\b\b\b\b\b\b\b\b\b\b\b\b\b\b\b\b\b\b\b\b\b\b\b\b\b\b\b\b\b\b\b\b\b\b\b\b\b\b\b\b\b\b\b\b\b\b\b\b\b\b\b\b\b\b\b\b\b\b\b\b\b\b\b\b\b\b\b\b\b\b\b\b\b\b\b\b\b\b\b\n",
      "Epoch 3/5\n",
      "24/24 [==============================] - 0s 6ms/step - loss: 0.5440 - accuracy: 0.7180 - val_loss: 0.5308 - val_accuracy: 0.7041\b\b\b\b\b\b\b\b\b\b\b\b\b\b\b\b\b\b\b\b\b\b\b\b\b\b\b\b\b\b\b\b\b\b\b\b\b\b\b\b\b\b\b\b\b\b\b\b\b\b\b\b\b\b\b\b\b\b\b\b\b\b\b\b\b\b\b\b\b\b\b\b\b\b\b\b\b\b\b\b\b\b\b\b\b\b\b\b\b\b\b\b\b\b\b\b\b\b\b\b\b\b\b\b\b\b\b\b\b\b\b\b\b\b\b\b\b\b\n",
      "Epoch 4/5\n",
      "24/24 [==============================] - 0s 6ms/step - loss: 0.5255 - accuracy: 0.7355 - val_loss: 0.5203 - val_accuracy: 0.7316\b\b\b\b\b\b\b\b\b\b\b\b\b\b\b\b\b\b\b\b\b\b\b\b\b\b\b\b\b\b\b\b\b\b\b\b\b\b\b\b\b\b\b\b\b\b\b\b\b\b\b\b\b\b\b\b\b\b\b\b\b\b\b\b\b\b\b\b\b\b\b\b\b\b\b\b\b\b\b\b\b\b\b\b\b\b\b\b\b\b\b\b\b\b\b\b\b\b\b\b\b\b\b\b\b\b\b\b\b\b\b\b\b\b\b\b\b\b\n",
      "Epoch 5/5\n",
      "24/24 [==============================] - 0s 8ms/step - loss: 0.5118 - accuracy: 0.7520 - val_loss: 0.5137 - val_accuracy: 0.7268\b\b\b\b\b\b\b\b\b\b\b\b\b\b\b\b\b\b\b\b\b\b\b\b\b\b\b\b\b\b\b\b\b\b\b\b\b\b\b\b\b\b\b\b\b\b\b\b\b\b\b\b\b\b\b\b\b\b\b\b\b\b\b\b\b\b\b\b\b\b\b\b\b\b\b\b\b\b\b\b\b\b\b\b\b\b\b\b\b\b\b\b\b\b\b\b\b\b\b\b\b\b\b\b\b\b\b\b\b\b\b\b\b\b\b\b\b\b\b\b\b\b\b\b\b\b\b\b\b\b\b\b\b\b\b\b\b\b\b\b\b\b\b\b\b\b\b\b\b\b\b\b\b\b\b\b\b\b\b\b\b\b\b\b\b\b\b\b\b\b\b\b\b\b\b\b\b\b\b\b\b\b\b\b\b\b\b\b\b\b\b\b\b\b\b\b\b\b\b\b\n",
      "40/40 [==============================] - 0s 2ms/step - loss: 0.5137 - accuracy: 0.7268\b\b\b\b\b\b\b\b\b\b\b\b\b\b\b\b\b\b\b\b\b\b\b\b\b\b\b\b\b\b\b\b\b\b\b\b\b\b\b\b\b\b\b\b\b\b\b\b\b\b\b\b\b\b\b\b\b\b\b\b\b\b\b\b\b\b\b\b\b\b\b\b\b\b\b\b\b\b\b\b\b\b\b\b\b\b\b\b\b\b\b\b\b\b\b\b\b\b\b\b\b\b\b\b\b\b\b\b\b\b\b\b\b\b\b\b\b\b\b\b\b\b\b\b\b\b\b\b\b\b\b\b\b\b\b\b\b\b\b\b\b\b\b\b\b\b\b\b\b\b\b\b\b\b\b\b\b\b\b\b\n",
      "Acccuracy =  0.7268446087837219\n"
     ]
    }
   ],
   "source": [
    "## MODELE 1\n",
    "# architecture du réseau: sans couche cachée de 512 neurones et sans dropout.\n",
    "network = Sequential()\n",
    "network.add(layers.Dense(512, activation='relu', input_shape=(57,)))\n",
    "network.add(layers.Dense(2,activation='softmax'))\n",
    "\n",
    "# compilation du modèle de classification multiclasse\n",
    "'binary_crossentropy'\n",
    "network.compile(optimizer='rmsprop', loss='categorical_crossentropy',\n",
    "metrics=['accuracy'])\n",
    "\n",
    "# entrainement du réseau : appel de la fonction fit\n",
    "network.fit(train_images, train_label, epochs=5, batch_size=128, verbose = 1,\n",
    "validation_data=(test_images,test_label))\n",
    "# évaluation du modèle\n",
    "test_loss, test_acc = network.evaluate(test_images, test_label)\n",
    "# affichage du résultat\n",
    "print ('Acccuracy = ', test_acc)"
   ]
  },
  {
   "cell_type": "code",
   "execution_count": 12,
   "metadata": {
    "pycharm": {
     "name": "#%%\n"
    },
    "scrolled": true
   },
   "outputs": [
    {
     "name": "stdout",
     "output_type": "stream",
     "text": [
      "Epoch 1/5\n",
      "24/24 [==============================] - 1s 14ms/step - loss: 0.5965 - accuracy: 0.6894 - val_loss: 0.5724 - val_accuracy: 0.6797\b\b\b\b\b\b\b\b\b\b\b\b\b\b\b\b\b\b\b\b\b\b\b\b\b\b\b\b\b\b\b\b\b\b\b\b\b\b\b\b\b\b\b\b\b\b\b\b\b\b\b\b\b\b\b\b\b\b\b\b\b\b\b\b\b\b\b\b\b\b\b\b\b\b\b\b\b\b\b\b\b\b\b\b\b\b\b\b\b\b\b\b\b\b\b\b\b\b\b\b\b\b\b\b\b\b\b\b\b\b\b\b\b\b\b\b\b\b\b\n",
      "Epoch 2/5\n",
      "24/24 [==============================] - 0s 6ms/step - loss: 0.5392 - accuracy: 0.7258 - val_loss: 0.5103 - val_accuracy: 0.7119\b\b\b\b\b\b\b\b\b\b\b\b\b\b\b\b\b\b\b\b\b\b\b\b\b\b\b\b\b\b\b\b\b\b\b\b\b\b\b\b\b\b\b\b\b\b\b\b\b\b\b\b\b\b\b\b\b\b\b\b\b\b\b\b\b\b\b\b\b\b\b\b\b\b\b\b\b\b\b\b\b\b\b\b\b\b\b\b\b\b\b\b\b\b\b\b\b\b\b\b\b\b\b\b\b\b\b\b\b\b\b\b\b\b\b\b\b\b\n",
      "Epoch 3/5\n",
      "24/24 [==============================] - 0s 7ms/step - loss: 0.5033 - accuracy: 0.7480 - val_loss: 0.4959 - val_accuracy: 0.7504\b\b\b\b\b\b\b\b\b\b\b\b\b\b\b\b\b\b\b\b\b\b\b\b\b\b\b\b\b\b\b\b\b\b\b\b\b\b\b\b\b\b\b\b\b\b\b\b\b\b\b\b\b\b\b\b\b\b\b\b\b\b\b\b\b\b\b\b\b\b\b\b\b\b\b\b\b\b\b\b\b\b\b\b\b\b\b\b\b\b\b\b\b\b\b\b\b\b\b\b\b\b\b\b\b\b\b\b\b\b\b\b\b\b\b\b\b\b\n",
      "Epoch 4/5\n",
      "24/24 [==============================] - 0s 7ms/step - loss: 0.4805 - accuracy: 0.7695 - val_loss: 0.5440 - val_accuracy: 0.7637\b\b\b\b\b\b\b\b\b\b\b\b\b\b\b\b\b\b\b\b\b\b\b\b\b\b\b\b\b\b\b\b\b\b\b\b\b\b\b\b\b\b\b\b\b\b\b\b\b\b\b\b\b\b\b\b\b\b\b\b\b\b\b\b\b\b\b\b\b\b\b\b\b\b\b\b\b\b\b\b\b\b\b\b\b\b\b\b\b\b\b\b\b\b\b\b\b\b\b\b\b\b\b\b\b\b\b\b\b\b\b\b\b\b\b\b\b\b\n",
      "Epoch 5/5\n",
      "24/24 [==============================] - 0s 6ms/step - loss: 0.4646 - accuracy: 0.7887 - val_loss: 0.4449 - val_accuracy: 0.8179\b\b\b\b\b\b\b\b\b\b\b\b\b\b\b\b\b\b\b\b\b\b\b\b\b\b\b\b\b\b\b\b\b\b\b\b\b\b\b\b\b\b\b\b\b\b\b\b\b\b\b\b\b\b\b\b\b\b\b\b\b\b\b\b\b\b\b\b\b\b\b\b\b\b\b\b\b\b\b\b\b\b\b\b\b\b\b\b\b\b\b\b\b\b\b\b\b\b\b\b\b\b\b\b\b\b\b\b\b\b\b\b\b\b\b\b\b\b\n",
      "40/40 [==============================] - 0s 3ms/step - loss: 0.4449 - accuracy: 0.8179\b\b\b\b\b\b\b\b\b\b\b\b\b\b\b\b\b\b\b\b\b\b\b\b\b\b\b\b\b\b\b\b\b\b\b\b\b\b\b\b\b\b\b\b\b\b\b\b\b\b\b\b\b\b\b\b\b\b\b\b\b\b\b\b\b\b\b\b\b\b\b\b\b\b\b\b\b\b\b\b\b\b\b\b\b\b\b\b\b\b\b\b\b\b\b\b\b\b\b\b\b\b\b\b\b\b\b\b\b\b\b\b\b\b\b\b\b\b\b\b\b\b\b\b\b\b\b\b\b\b\b\b\b\b\b\b\b\b\b\b\b\b\b\b\b\b\b\b\b\b\b\b\b\b\b\b\b\b\b\b\n",
      "Acccuracy =  0.8178963661193848\n"
     ]
    }
   ],
   "source": [
    "## MODELE 2\n",
    "# architecture du réseau: de 512 neurones avec une couche cachée de 258 neurones\n",
    "network = Sequential()\n",
    "network.add(layers.Dense(512, activation='relu', input_shape=(57,)))\n",
    "network.add(layers.Dense(258, activation='relu'))\n",
    "network.add(layers.Dense(2,activation='softmax'))\n",
    "\n",
    "network.compile(optimizer='rmsprop', loss='categorical_crossentropy',\n",
    "metrics=['accuracy'])\n",
    "\n",
    "network.fit(train_images, train_label, epochs=5, batch_size=128, verbose = 1,\n",
    "validation_data=(test_images,test_label))\n",
    "test_loss, test_acc = network.evaluate(test_images, test_label)\n",
    "print ('Acccuracy = ', test_acc)"
   ]
  },
  {
   "cell_type": "code",
   "execution_count": 2,
   "metadata": {
    "pycharm": {
     "name": "#%%\n"
    }
   },
   "outputs": [],
   "source": [
    "## MODELE 3\n",
    "# initialisation des variables les plus importantes\n",
    "nblignes = len(dataset)\n",
    "counts = dataset[\"GOAL-Spam\"].value_counts()\n",
    "nbYes = counts[\"Yes\"]\n",
    "nbNo = counts[\"No\"]\n",
    "pYes = nbYes/nblignes\n",
    "pNo = nbNo/nblignes\n",
    "\n",
    "# calcul des espérances et variances\n",
    "outLabels =  [\"Yes\",\"No\"]\n",
    "labelsValues = {}\n",
    "for r in outLabels:\n",
    "    columns = dataset.columns.to_list()[1:]\n",
    "    tmp = dataset.where(dataset[\"GOAL-Spam\"]== r)\n",
    "    labelsValues[r] = {}\n",
    "    for c in columns:\n",
    "        µ = 0\n",
    "        for x in tmp[c]:\n",
    "            µ+= x if not pandas.isnull(x) else 0\n",
    "        µ/= counts[r]\n",
    "        ss = 0\n",
    "        for x in tmp[c]:\n",
    "            ss += (x if not pandas.isnull(x) else 0-µ)**2\n",
    "        ss/= counts[r]-1\n",
    "        s = ss**0.5\n",
    "        if s==0: s = 0.0000000000000000001\n",
    "        labelsValues[r][c] = {\"µ\": µ,\"s\": s}"
   ]
  },
  {
   "cell_type": "code",
   "execution_count": 3,
   "metadata": {
    "pycharm": {
     "name": "#%%\n"
    }
   },
   "outputs": [],
   "source": [
    "# utilisation des espérances et variances dans la loi normale et calcul des probabilités conditionnelles\n",
    "result = [0]*len(dataset3)\n",
    "for j in range(len(dataset3)):\n",
    "    val = dataset3.iloc[j]\n",
    "    dic = {}\n",
    "    for r in [\"Yes\",\"No\"]:\n",
    "        columns = dataset3.columns.to_list()[:-1]\n",
    "        fxs = [1]*(len(columns))\n",
    "        for i,c in enumerate(columns):\n",
    "            y = val[c]\n",
    "            µ = labelsValues[r][c][\"µ\"]\n",
    "            s = labelsValues[r][c][\"s\"]\n",
    "            fxs[i] = (1/(s*(2*math.pi)**0.5)) * math.exp(-0.5  *  ((y-µ)/s)**2)\n",
    "        p = 1\n",
    "        for x in fxs:\n",
    "            p*=x\n",
    "        dic[r] = p\n",
    "    tmp = [0,0]\n",
    "    for x in dic:\n",
    "        if dic[x] > tmp[1]:\n",
    "            tmp[1] = dic[x]\n",
    "            tmp[0] = x\n",
    "    result[j] = tmp[0]"
   ]
  },
  {
   "cell_type": "code",
   "execution_count": 30,
   "metadata": {
    "pycharm": {
     "name": "#%%\n"
    }
   },
   "outputs": [
    {
     "name": "stdout",
     "output_type": "stream",
     "text": [
      "0.7660910518053375\n"
     ]
    }
   ],
   "source": [
    "# évaluation du modèle et affichage du résultat\n",
    "tmp = dataset3[\"Spam\"].replace(0,\"No\").replace(1,\"Yes\")\n",
    "x = 0\n",
    "for i,r in enumerate(result):\n",
    "    if r==tmp[i]:\n",
    "        x+=1\n",
    "x/=len(tmp)\n",
    "print(x)"
   ]
  }
 ],
 "metadata": {
  "kernelspec": {
   "display_name": "Python 3",
   "language": "python",
   "name": "python3"
  },
  "language_info": {
   "codemirror_mode": {
    "name": "ipython",
    "version": 3
   },
   "file_extension": ".py",
   "mimetype": "text/x-python",
   "name": "python",
   "nbconvert_exporter": "python",
   "pygments_lexer": "ipython3",
   "version": "3.6.13"
  }
 },
 "nbformat": 4,
 "nbformat_minor": 1
}
