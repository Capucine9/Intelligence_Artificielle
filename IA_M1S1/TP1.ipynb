{
 "cells": [
  {
   "cell_type": "code",
   "execution_count": 3,
   "metadata": {
    "pycharm": {
     "name": "#%%\n"
    }
   },
   "outputs": [
    {
     "name": "stdout",
     "output_type": "stream",
     "text": [
      "Erreur =  0.0  %\n"
     ]
    },
    {
     "data": {
      "text/plain": "<Figure size 432x288 with 1 Axes>",
      "image/png": "[encoded data removed]"
     },
     "metadata": {
      "needs_background": "light"
     },
     "output_type": "display_data"
    }
   ],
   "source": [
    "import numpy as np\n",
    "import matplotlib.pyplot as plt\n",
    "import random\n",
    "import os\n",
    "import math\n",
    "\n",
    "# classification par la méthode des k plus proches voisins\n",
    "def kppv(x:np.array,appren:np.array,oracle,K):\n",
    "    clas = []\n",
    "    # récupération des données\n",
    "    for i in range(len(x[0])):\n",
    "        point = (x[0][i],x[1][i])\n",
    "        ppps = [(0,999999)]*K\n",
    "        for j in range(len(appren[0])):\n",
    "            tmppoint = j\n",
    "            # calcul des distances séparant les points\n",
    "            dist = math.sqrt((appren[0][tmppoint]-point[0])**2+(appren[1][tmppoint]-point[1])**2)\n",
    "            for k in range(len(ppps)):\n",
    "                # classification des points selon la distance de séparation\n",
    "                if(ppps[k][1]>=dist):\n",
    "                    tmp = ppps[k]\n",
    "                    ppps[k] = (tmppoint,dist)\n",
    "                    tmppoint = tmp[0]\n",
    "                    dist = tmp[1]\n",
    "        sumtmp = 0\n",
    "        # classification des points dans les différentes classes\n",
    "        for y in ppps:\n",
    "            sumtmp+=oracle[y[0]]\n",
    "        clas.append(0 if sumtmp<= len(ppps)/2 else 1)\n",
    "        np.append(appren,[x[0][i],x[1][i]])\n",
    "        np.append(oracle,0 if sumtmp<= len(ppps)/2 else 1)\n",
    "\n",
    "    return np.array(clas)\n",
    "\n",
    "# visualisation de la représentation graphique de la classification\n",
    "def affiche_classe(x,clas,K):\n",
    "    for k in range(0,K):\n",
    "        ind=(clas==k)\n",
    "        plt.plot(x[0,ind],x[1,ind],\"o\")\n",
    "    plt.show()\n",
    "\n",
    "# données de test\n",
    "mean1 = [4, 4]\n",
    "cov1 = [[1, 0], [0, 1]] #\n",
    "data1 = np.transpose(np.random.multivariate_normal(mean1, cov1, 128))\n",
    "mean2 = [-4, -4]\n",
    "cov2 = [[4, 0], [0, 4]] #\n",
    "data2 = np.transpose(np.random.multivariate_normal(mean2, cov2, 128))\n",
    "data=np.concatenate((data1, data2), axis=1)\n",
    "oracle=np.concatenate((np.zeros(128),np.ones(128)))\n",
    "test1=np.transpose(np.random.multivariate_normal(mean1, cov1, 64))\n",
    "test2=np.transpose(np.random.multivariate_normal(mean2, cov2,64))\n",
    "test=np.concatenate((test1,test2), axis=1)\n",
    "K=3\n",
    "clas=kppv(test,data,oracle,K)\n",
    "\n",
    "# calcul d'erreur de l'algorithme\n",
    "error = 0\n",
    "for x in range(len(test[0])):\n",
    "    if clas[x]==0:\n",
    "        if test[0][x] == test1[0][x % 64] and test[1][x] == test1[1][x % 64]:\n",
    "            continue\n",
    "        error+=1\n",
    "    else:\n",
    "        if test[0][x] == test2[0][x % 64] and test[1][x] == test2[1][x % 64]:\n",
    "            continue\n",
    "        error+=1\n",
    "error*=100\n",
    "error/=len(test[0])\n",
    "print(\"Erreur = \",error,\" %\")\n",
    "# affiche le graphique avec les deux classes distinctes\n",
    "affiche_classe(test,clas,2)"
   ]
  }
 ],
 "metadata": {
  "kernelspec": {
   "display_name": "Python 3 (ipykernel)",
   "language": "python",
   "name": "python3"
  },
  "language_info": {
   "codemirror_mode": {
    "name": "ipython",
    "version": 3
   },
   "file_extension": ".py",
   "mimetype": "text/x-python",
   "name": "python",
   "nbconvert_exporter": "python",
   "pygments_lexer": "ipython3",
   "version": "3.8.0"
  }
 },
 "nbformat": 4,
 "nbformat_minor": 1
}